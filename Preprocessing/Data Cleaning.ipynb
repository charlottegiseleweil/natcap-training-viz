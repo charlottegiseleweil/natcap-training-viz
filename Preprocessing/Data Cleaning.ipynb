{
 "cells": [
  {
   "cell_type": "markdown",
   "metadata": {},
   "source": [
    "# Creating the Data for the Map\n",
    "---\n",
    "The first step is to clean the dataset to be able to map it correctly."
   ]
  },
  {
   "cell_type": "code",
   "execution_count": 227,
   "metadata": {},
   "outputs": [],
   "source": [
    "import numpy as np\n",
    "import pandas as pd\n",
    "import pycountry\n",
    "import collections\n",
    "import json\n",
    "\n",
    "DATA_DIR = '../Data/'"
   ]
  },
  {
   "cell_type": "markdown",
   "metadata": {},
   "source": [
    "Load the data:"
   ]
  },
  {
   "cell_type": "code",
   "execution_count": 228,
   "metadata": {
    "scrolled": true
   },
   "outputs": [
    {
     "data": {
      "text/html": [
       "<div>\n",
       "<style scoped>\n",
       "    .dataframe tbody tr th:only-of-type {\n",
       "        vertical-align: middle;\n",
       "    }\n",
       "\n",
       "    .dataframe tbody tr th {\n",
       "        vertical-align: top;\n",
       "    }\n",
       "\n",
       "    .dataframe thead th {\n",
       "        text-align: right;\n",
       "    }\n",
       "</style>\n",
       "<table border=\"1\" class=\"dataframe\">\n",
       "  <thead>\n",
       "    <tr style=\"text-align: right;\">\n",
       "      <th></th>\n",
       "      <th></th>\n",
       "      <th>P/I</th>\n",
       "      <th>NAME</th>\n",
       "      <th>E-MAIL</th>\n",
       "      <th>AFFILIATION \n",
       "TYPE</th>\n",
       "      <th>AFFILIATION\n",
       "NAME</th>\n",
       "      <th>COUNTRY</th>\n",
       "      <th>TYPE</th>\n",
       "      <th>COUNTRY.1</th>\n",
       "      <th>START\n",
       "DATE</th>\n",
       "      <th>LENGTH\n",
       "(# OF DAYS)</th>\n",
       "      <th>100 LEVEL\n",
       "(INTRO)</th>\n",
       "      <th>200 LEVEL\n",
       "(INTERMEDIATE)</th>\n",
       "      <th>300 LEVEL\n",
       "(ADVANCED)</th>\n",
       "    </tr>\n",
       "  </thead>\n",
       "  <tbody>\n",
       "    <tr>\n",
       "      <th rowspan=\"5\" valign=\"top\">2013</th>\n",
       "      <th>0</th>\n",
       "      <td>I</td>\n",
       "      <td>Mary Ruckelshaus</td>\n",
       "      <td>NaN</td>\n",
       "      <td>Academic</td>\n",
       "      <td>Natural Capital Project</td>\n",
       "      <td>USA</td>\n",
       "      <td>Nodal</td>\n",
       "      <td>Argentina</td>\n",
       "      <td>2013-09-12</td>\n",
       "      <td>2.0</td>\n",
       "      <td>1.0</td>\n",
       "      <td>1.0</td>\n",
       "      <td>NaN</td>\n",
       "    </tr>\n",
       "    <tr>\n",
       "      <th>1</th>\n",
       "      <td>I</td>\n",
       "      <td>Anne Guerry</td>\n",
       "      <td>NaN</td>\n",
       "      <td>Academic</td>\n",
       "      <td>Natural Capital Project</td>\n",
       "      <td>USA</td>\n",
       "      <td>Nodal</td>\n",
       "      <td>Argentina</td>\n",
       "      <td>2013-09-12</td>\n",
       "      <td>2.0</td>\n",
       "      <td>1.0</td>\n",
       "      <td>1.0</td>\n",
       "      <td>NaN</td>\n",
       "    </tr>\n",
       "    <tr>\n",
       "      <th>2</th>\n",
       "      <td>I</td>\n",
       "      <td>Spencer Wood</td>\n",
       "      <td>NaN</td>\n",
       "      <td>Academic</td>\n",
       "      <td>Natural Capital Project</td>\n",
       "      <td>USA</td>\n",
       "      <td>Nodal</td>\n",
       "      <td>Argentina</td>\n",
       "      <td>2013-09-12</td>\n",
       "      <td>2.0</td>\n",
       "      <td>1.0</td>\n",
       "      <td>1.0</td>\n",
       "      <td>NaN</td>\n",
       "    </tr>\n",
       "    <tr>\n",
       "      <th>3</th>\n",
       "      <td>I</td>\n",
       "      <td>Robert Griffin</td>\n",
       "      <td>NaN</td>\n",
       "      <td>Academic</td>\n",
       "      <td>Natural Capital Project</td>\n",
       "      <td>USA</td>\n",
       "      <td>Nodal</td>\n",
       "      <td>Argentina</td>\n",
       "      <td>2013-09-12</td>\n",
       "      <td>2.0</td>\n",
       "      <td>1.0</td>\n",
       "      <td>1.0</td>\n",
       "      <td>NaN</td>\n",
       "    </tr>\n",
       "    <tr>\n",
       "      <th>4</th>\n",
       "      <td>I</td>\n",
       "      <td>Jess Silver</td>\n",
       "      <td>NaN</td>\n",
       "      <td>Academic</td>\n",
       "      <td>Natural Capital Project</td>\n",
       "      <td>USA</td>\n",
       "      <td>Nodal</td>\n",
       "      <td>Argentina</td>\n",
       "      <td>2013-09-12</td>\n",
       "      <td>2.0</td>\n",
       "      <td>1.0</td>\n",
       "      <td>1.0</td>\n",
       "      <td>NaN</td>\n",
       "    </tr>\n",
       "  </tbody>\n",
       "</table>\n",
       "</div>"
      ],
      "text/plain": [
       "       P/I              NAME E-MAIL AFFILIATION \\nTYPE  \\\n",
       "2013 0   I  Mary Ruckelshaus    NaN           Academic   \n",
       "     1   I       Anne Guerry    NaN           Academic   \n",
       "     2   I      Spencer Wood    NaN           Academic   \n",
       "     3   I    Robert Griffin    NaN           Academic   \n",
       "     4   I       Jess Silver    NaN           Academic   \n",
       "\n",
       "              AFFILIATION\\nNAME COUNTRY   TYPE  COUNTRY.1 START\\nDATE  \\\n",
       "2013 0  Natural Capital Project     USA  Nodal  Argentina  2013-09-12   \n",
       "     1  Natural Capital Project     USA  Nodal  Argentina  2013-09-12   \n",
       "     2  Natural Capital Project     USA  Nodal  Argentina  2013-09-12   \n",
       "     3  Natural Capital Project     USA  Nodal  Argentina  2013-09-12   \n",
       "     4  Natural Capital Project     USA  Nodal  Argentina  2013-09-12   \n",
       "\n",
       "        LENGTH\\n(# OF DAYS)  100 LEVEL\\n(INTRO)  200 LEVEL\\n(INTERMEDIATE)  \\\n",
       "2013 0                  2.0                 1.0                        1.0   \n",
       "     1                  2.0                 1.0                        1.0   \n",
       "     2                  2.0                 1.0                        1.0   \n",
       "     3                  2.0                 1.0                        1.0   \n",
       "     4                  2.0                 1.0                        1.0   \n",
       "\n",
       "        300 LEVEL\\n(ADVANCED)  \n",
       "2013 0                    NaN  \n",
       "     1                    NaN  \n",
       "     2                    NaN  \n",
       "     3                    NaN  \n",
       "     4                    NaN  "
      ]
     },
     "metadata": {},
     "output_type": "display_data"
    },
    {
     "data": {
      "text/plain": [
       "(4192, 13)"
      ]
     },
     "metadata": {},
     "output_type": "display_data"
    }
   ],
   "source": [
    "data = pd.concat(pd.read_excel(DATA_DIR + 'PARTICIPANT LISTS - 2013-present.xlsx', sheet_name=None, header=1))\n",
    "display(data.head(), data.shape)"
   ]
  },
  {
   "cell_type": "markdown",
   "metadata": {},
   "source": [
    "Look at the unique country names in both country columns:"
   ]
  },
  {
   "cell_type": "code",
   "execution_count": 229,
   "metadata": {},
   "outputs": [
    {
     "data": {
      "text/plain": [
       "array(['USA', 'Argentina', 'Chile', 'Thailand', 'Vietnam', 'Cambodia',\n",
       "       'Kyrgystan', 'United Kingdom', 'Mozambique', 'Peru', 'Colombia',\n",
       "       'Brazil', 'Ecuador', 'Germany', 'Malaysia', 'Sweden', 'Australia',\n",
       "       'Denmark', 'Switzerland', 'Indonesia', 'Japan', 'Laos',\n",
       "       'Netherlands', 'New Zealand', 'China', 'Mexico', 'Bulgaria',\n",
       "       'Cameroon', 'Philippines', 'Singapore', 'Hungary', 'Kenya',\n",
       "       'Canada', 'Costa Rica', 'Nicaragua', 'Panama',\n",
       "       'República Dominicana', nan, 'Guatemala', 'Brasil', 'Mongolia',\n",
       "       'Spain', 'Portugal', 'Georgia', 'Italy', 'Belgium', 'India',\n",
       "       'Bolivia', 'France', 'Trinidad and Tobago', 'Lithuania', 'Nepal',\n",
       "       'Israel', 'Norway', 'Korea', 'Belgian', 'Greece', 'Barbados',\n",
       "       'Trinidad & Tobago', 'Bhutan', 'Myanmar', 'Kazakhstan',\n",
       "       'Sri Lanka', 'Ghana', 'Ethiopia', 'Tanzania', 'South Africa',\n",
       "       'Jordan', 'Bangladesh', 'UK', 'Tunisia', 'Slovenia',\n",
       "       'United Arab Emirates', 'Romania', 'Austria', 'Zimbabwe',\n",
       "       'Puerto Rico', 'Morocco', 'Egypt',\n",
       "       'Not sure Not an SAPECS person…', 'Botswana', 'Kyrgyzstan',\n",
       "       'Belize', 'Bahamas', 'Martinique', 'Suriname', 'United States',\n",
       "       'Benin', 'Russia', 'Swaziland', 'Seychelles', 'Madagascar',\n",
       "       'South Korea', 'Nigeria', 'Russian Federation', 'Liberia',\n",
       "       'Jamaica', \"Côte-d'Ivoire\", 'Pakistan', 'Scotland', 'England',\n",
       "       'Virtual', 'Finland'], dtype=object)"
      ]
     },
     "execution_count": 229,
     "metadata": {},
     "output_type": "execute_result"
    }
   ],
   "source": [
    "pd.concat([data['COUNTRY'], data['COUNTRY.1']]).unique()"
   ]
  },
  {
   "cell_type": "markdown",
   "metadata": {},
   "source": [
    "Look at the country names `pycountry` can understand (because we will use it to get the country codes for the map:"
   ]
  },
  {
   "cell_type": "code",
   "execution_count": 230,
   "metadata": {},
   "outputs": [
    {
     "data": {
      "text/plain": [
       "array(['Aruba', 'Afghanistan', 'Angola', 'Anguilla', 'Åland Islands',\n",
       "       'Albania', 'Andorra', 'United Arab Emirates', 'Argentina',\n",
       "       'Armenia', 'American Samoa', 'Antarctica',\n",
       "       'French Southern Territories', 'Antigua and Barbuda', 'Australia',\n",
       "       'Austria', 'Azerbaijan', 'Burundi', 'Belgium', 'Benin',\n",
       "       'Bonaire, Sint Eustatius and Saba', 'Burkina Faso', 'Bangladesh',\n",
       "       'Bulgaria', 'Bahrain', 'Bahamas', 'Bosnia and Herzegovina',\n",
       "       'Saint Barthélemy', 'Belarus', 'Belize', 'Bermuda',\n",
       "       'Bolivia, Plurinational State of', 'Brazil', 'Barbados',\n",
       "       'Brunei Darussalam', 'Bhutan', 'Bouvet Island', 'Botswana',\n",
       "       'Central African Republic', 'Canada', 'Cocos (Keeling) Islands',\n",
       "       'Switzerland', 'Chile', 'China', \"Côte d'Ivoire\", 'Cameroon',\n",
       "       'Congo, The Democratic Republic of the', 'Congo', 'Cook Islands',\n",
       "       'Colombia', 'Comoros', 'Cabo Verde', 'Costa Rica', 'Cuba',\n",
       "       'Curaçao', 'Christmas Island', 'Cayman Islands', 'Cyprus',\n",
       "       'Czechia', 'Germany', 'Djibouti', 'Dominica', 'Denmark',\n",
       "       'Dominican Republic', 'Algeria', 'Ecuador', 'Egypt', 'Eritrea',\n",
       "       'Western Sahara', 'Spain', 'Estonia', 'Ethiopia', 'Finland',\n",
       "       'Fiji', 'Falkland Islands (Malvinas)', 'France', 'Faroe Islands',\n",
       "       'Micronesia, Federated States of', 'Gabon', 'United Kingdom',\n",
       "       'Georgia', 'Guernsey', 'Ghana', 'Gibraltar', 'Guinea',\n",
       "       'Guadeloupe', 'Gambia', 'Guinea-Bissau', 'Equatorial Guinea',\n",
       "       'Greece', 'Grenada', 'Greenland', 'Guatemala', 'French Guiana',\n",
       "       'Guam', 'Guyana', 'Hong Kong', 'Heard Island and McDonald Islands',\n",
       "       'Honduras', 'Croatia', 'Haiti', 'Hungary', 'Indonesia',\n",
       "       'Isle of Man', 'India', 'British Indian Ocean Territory',\n",
       "       'Ireland', 'Iran, Islamic Republic of', 'Iraq', 'Iceland',\n",
       "       'Israel', 'Italy', 'Jamaica', 'Jersey', 'Jordan', 'Japan',\n",
       "       'Kazakhstan', 'Kenya', 'Kyrgyzstan', 'Cambodia', 'Kiribati',\n",
       "       'Saint Kitts and Nevis', 'Korea, Republic of', 'Kuwait',\n",
       "       \"Lao People's Democratic Republic\", 'Lebanon', 'Liberia', 'Libya',\n",
       "       'Saint Lucia', 'Liechtenstein', 'Sri Lanka', 'Lesotho',\n",
       "       'Lithuania', 'Luxembourg', 'Latvia', 'Macao',\n",
       "       'Saint Martin (French part)', 'Morocco', 'Monaco',\n",
       "       'Moldova, Republic of', 'Madagascar', 'Maldives', 'Mexico',\n",
       "       'Marshall Islands', 'Macedonia, Republic of', 'Mali', 'Malta',\n",
       "       'Myanmar', 'Montenegro', 'Mongolia', 'Northern Mariana Islands',\n",
       "       'Mozambique', 'Mauritania', 'Montserrat', 'Martinique',\n",
       "       'Mauritius', 'Malawi', 'Malaysia', 'Mayotte', 'Namibia',\n",
       "       'New Caledonia', 'Niger', 'Norfolk Island', 'Nigeria', 'Nicaragua',\n",
       "       'Niue', 'Netherlands', 'Norway', 'Nepal', 'Nauru', 'New Zealand',\n",
       "       'Oman', 'Pakistan', 'Panama', 'Pitcairn', 'Peru', 'Philippines',\n",
       "       'Palau', 'Papua New Guinea', 'Poland', 'Puerto Rico',\n",
       "       \"Korea, Democratic People's Republic of\", 'Portugal', 'Paraguay',\n",
       "       'Palestine, State of', 'French Polynesia', 'Qatar', 'Réunion',\n",
       "       'Romania', 'Russian Federation', 'Rwanda', 'Saudi Arabia', 'Sudan',\n",
       "       'Senegal', 'Singapore',\n",
       "       'South Georgia and the South Sandwich Islands',\n",
       "       'Saint Helena, Ascension and Tristan da Cunha',\n",
       "       'Svalbard and Jan Mayen', 'Solomon Islands', 'Sierra Leone',\n",
       "       'El Salvador', 'San Marino', 'Somalia',\n",
       "       'Saint Pierre and Miquelon', 'Serbia', 'South Sudan',\n",
       "       'Sao Tome and Principe', 'Suriname', 'Slovakia', 'Slovenia',\n",
       "       'Sweden', 'Swaziland', 'Sint Maarten (Dutch part)', 'Seychelles',\n",
       "       'Syrian Arab Republic', 'Turks and Caicos Islands', 'Chad', 'Togo',\n",
       "       'Thailand', 'Tajikistan', 'Tokelau', 'Turkmenistan', 'Timor-Leste',\n",
       "       'Tonga', 'Trinidad and Tobago', 'Tunisia', 'Turkey', 'Tuvalu',\n",
       "       'Taiwan, Province of China', 'Tanzania, United Republic of',\n",
       "       'Uganda', 'Ukraine', 'United States Minor Outlying Islands',\n",
       "       'Uruguay', 'United States', 'Uzbekistan',\n",
       "       'Holy See (Vatican City State)',\n",
       "       'Saint Vincent and the Grenadines',\n",
       "       'Venezuela, Bolivarian Republic of', 'Virgin Islands, British',\n",
       "       'Virgin Islands, U.S.', 'Viet Nam', 'Vanuatu', 'Wallis and Futuna',\n",
       "       'Samoa', 'Yemen', 'South Africa', 'Zambia', 'Zimbabwe'],\n",
       "      dtype='<U44')"
      ]
     },
     "execution_count": 230,
     "metadata": {},
     "output_type": "execute_result"
    }
   ],
   "source": [
    "np.array([country.name for country in pycountry.countries])"
   ]
  },
  {
   "cell_type": "markdown",
   "metadata": {},
   "source": [
    "Create the corrections as a dictionary:"
   ]
  },
  {
   "cell_type": "code",
   "execution_count": 231,
   "metadata": {},
   "outputs": [
    {
     "data": {
      "text/plain": [
       "{'Belgian': 'Belgium',\n",
       " 'Bolivia': 'Bolivia, Plurinational State of',\n",
       " 'Brasil': 'Brazil',\n",
       " \"Côte-d'Ivoire\": \"Côte d'Ivoire\",\n",
       " 'England': 'United Kingdom',\n",
       " 'Korea': 'Korea, Republic of',\n",
       " 'Kyrgystan': 'Kyrgyzstan',\n",
       " 'Laos': \"Lao People's Democratic Republic\",\n",
       " 'Not sure Not an SAPECS person…': None,\n",
       " 'República Dominicana': 'Dominican Republic',\n",
       " 'Russia': 'Russian Federation',\n",
       " 'Scotland': 'United Kingdom',\n",
       " 'South Korea': 'Korea, Republic of',\n",
       " 'Tanzania': 'Tanzania, United Republic of',\n",
       " 'Trinidad & Tobago': 'Trinidad and Tobago',\n",
       " 'UK': 'United Kingdom',\n",
       " 'USA': 'United States',\n",
       " 'Vietnam': 'Viet Nam',\n",
       " 'Virtual': None}"
      ]
     },
     "execution_count": 231,
     "metadata": {},
     "output_type": "execute_result"
    }
   ],
   "source": [
    "corrections = {\n",
    "    'Belgian' : 'Belgium',\n",
    "    'Bolivia' : 'Bolivia, Plurinational State of',\n",
    "    'Brasil' : 'Brazil',\n",
    "    \"Côte-d'Ivoire\" : \"Côte d'Ivoire\",\n",
    "    'England' : 'United Kingdom',\n",
    "    'Korea' : 'Korea, Republic of',\n",
    "    'Kyrgystan' : 'Kyrgyzstan',\n",
    "    'Laos' : \"Lao People's Democratic Republic\",\n",
    "    'Not sure Not an SAPECS person…' : None,\n",
    "    'República Dominicana' : 'Dominican Republic',\n",
    "    'Russia' : 'Russian Federation',\n",
    "    'Scotland' : 'United Kingdom', \n",
    "    'South Korea' : 'Korea, Republic of',\n",
    "    'Tanzania' : 'Tanzania, United Republic of',\n",
    "    'Trinidad & Tobago' : 'Trinidad and Tobago',\n",
    "    'UK' : 'United Kingdom',\n",
    "    'USA' : 'United States',\n",
    "    'Vietnam' : 'Viet Nam',\n",
    "    'Virtual' : None\n",
    "}\n",
    "\n",
    "corrections"
   ]
  },
  {
   "cell_type": "markdown",
   "metadata": {},
   "source": [
    "Replace the wrong versions with the right versions:"
   ]
  },
  {
   "cell_type": "code",
   "execution_count": 232,
   "metadata": {},
   "outputs": [],
   "source": [
    "data.replace(to_replace=corrections, inplace=True)"
   ]
  },
  {
   "cell_type": "markdown",
   "metadata": {},
   "source": [
    "Drop the missing countries because there is no way to map them:"
   ]
  },
  {
   "cell_type": "code",
   "execution_count": 233,
   "metadata": {},
   "outputs": [],
   "source": [
    "data.dropna(subset=['COUNTRY', 'COUNTRY.1'], inplace=True)  # Drop unknown countries for the country data"
   ]
  },
  {
   "cell_type": "markdown",
   "metadata": {},
   "source": [
    "Check that `pycountry` can get the codes for all the countries without errors:"
   ]
  },
  {
   "cell_type": "code",
   "execution_count": 241,
   "metadata": {},
   "outputs": [
    {
     "data": {
      "text/plain": [
       "{'United States': 'US',\n",
       " 'Argentina': 'AR',\n",
       " 'Chile': 'CL',\n",
       " 'Thailand': 'TH',\n",
       " 'Viet Nam': 'VN',\n",
       " 'Cambodia': 'KH',\n",
       " 'Kyrgyzstan': 'KG',\n",
       " 'United Kingdom': 'GB',\n",
       " 'Mozambique': 'MZ',\n",
       " 'Peru': 'PE',\n",
       " 'Colombia': 'CO',\n",
       " 'Brazil': 'BR',\n",
       " 'Ecuador': 'EC',\n",
       " 'Germany': 'DE',\n",
       " 'Malaysia': 'MY',\n",
       " 'Sweden': 'SE',\n",
       " 'Australia': 'AU',\n",
       " 'Denmark': 'DK',\n",
       " 'Switzerland': 'CH',\n",
       " 'Indonesia': 'ID',\n",
       " 'Japan': 'JP',\n",
       " \"Lao People's Democratic Republic\": 'LA',\n",
       " 'Netherlands': 'NL',\n",
       " 'New Zealand': 'NZ',\n",
       " 'China': 'CN',\n",
       " 'Mexico': 'MX',\n",
       " 'Bulgaria': 'BG',\n",
       " 'Cameroon': 'CM',\n",
       " 'Philippines': 'PH',\n",
       " 'Singapore': 'SG',\n",
       " 'Hungary': 'HU',\n",
       " 'Kenya': 'KE',\n",
       " 'Canada': 'CA',\n",
       " 'Costa Rica': 'CR',\n",
       " 'Nicaragua': 'NI',\n",
       " 'Panama': 'PA',\n",
       " 'Dominican Republic': 'DO',\n",
       " 'Guatemala': 'GT',\n",
       " 'Mongolia': 'MN',\n",
       " 'Spain': 'ES',\n",
       " 'Portugal': 'PT',\n",
       " 'Georgia': 'GE',\n",
       " 'Italy': 'IT',\n",
       " 'Belgium': 'BE',\n",
       " 'India': 'IN',\n",
       " 'Bolivia, Plurinational State of': 'BO',\n",
       " 'France': 'FR',\n",
       " 'Trinidad and Tobago': 'TT',\n",
       " 'Lithuania': 'LT',\n",
       " 'Nepal': 'NP',\n",
       " 'Israel': 'IL',\n",
       " 'Norway': 'NO',\n",
       " 'Korea, Republic of': 'KR',\n",
       " 'Greece': 'GR',\n",
       " 'Barbados': 'BB',\n",
       " 'Bhutan': 'BT',\n",
       " 'Myanmar': 'MM',\n",
       " 'Kazakhstan': 'KZ',\n",
       " 'Sri Lanka': 'LK',\n",
       " 'Ghana': 'GH',\n",
       " 'Ethiopia': 'ET',\n",
       " 'Tanzania, United Republic of': 'TZ',\n",
       " 'South Africa': 'ZA',\n",
       " 'Jordan': 'JO',\n",
       " 'Bangladesh': 'BD',\n",
       " 'Tunisia': 'TN',\n",
       " 'Slovenia': 'SI',\n",
       " 'United Arab Emirates': 'AE',\n",
       " 'Romania': 'RO',\n",
       " 'Austria': 'AT',\n",
       " 'Zimbabwe': 'ZW',\n",
       " 'Puerto Rico': 'PR',\n",
       " 'Morocco': 'MA',\n",
       " 'Egypt': 'EG',\n",
       " 'Botswana': 'BW',\n",
       " 'Belize': 'BZ',\n",
       " 'Bahamas': 'BS',\n",
       " 'Martinique': 'MQ',\n",
       " 'Suriname': 'SR',\n",
       " 'Benin': 'BJ',\n",
       " 'Russian Federation': 'RU',\n",
       " 'Swaziland': 'SZ',\n",
       " 'Seychelles': 'SC',\n",
       " 'Madagascar': 'MG',\n",
       " 'Nigeria': 'NG',\n",
       " 'Liberia': 'LR',\n",
       " 'Jamaica': 'JM',\n",
       " \"Côte d'Ivoire\": 'CI',\n",
       " 'Pakistan': 'PK',\n",
       " 'Finland': 'FI'}"
      ]
     },
     "execution_count": 241,
     "metadata": {},
     "output_type": "execute_result"
    }
   ],
   "source": [
    "country_names = pd.concat([data['COUNTRY'], data['COUNTRY.1']]).unique()\n",
    "country_codes = np.array([pycountry.countries.get(name=country).alpha_2 for country in country_names])\n",
    "code_mapping = dict(zip(country_names, country_codes))\n",
    "code_mapping"
   ]
  },
  {
   "cell_type": "markdown",
   "metadata": {},
   "source": [
    "Replace country names in the data with the codes:"
   ]
  },
  {
   "cell_type": "code",
   "execution_count": 243,
   "metadata": {},
   "outputs": [],
   "source": [
    "data.replace(to_replace=code_mapping, inplace=True)"
   ]
  },
  {
   "cell_type": "markdown",
   "metadata": {},
   "source": [
    "Save the new data:"
   ]
  },
  {
   "cell_type": "code",
   "execution_count": 246,
   "metadata": {},
   "outputs": [],
   "source": [
    "data.to_csv(DATA_DIR + 'clean_countries.csv')"
   ]
  },
  {
   "cell_type": "markdown",
   "metadata": {},
   "source": [
    "# Processing the Data for the Map\n",
    "---\n",
    "The second step is to aggregate the data and count the number of trainees from each country and the number of trainings held in each country."
   ]
  },
  {
   "cell_type": "code",
   "execution_count": null,
   "metadata": {},
   "outputs": [],
   "source": []
  }
 ],
 "metadata": {
  "kernelspec": {
   "display_name": "Python 3",
   "language": "python",
   "name": "python3"
  },
  "language_info": {
   "codemirror_mode": {
    "name": "ipython",
    "version": 3
   },
   "file_extension": ".py",
   "mimetype": "text/x-python",
   "name": "python",
   "nbconvert_exporter": "python",
   "pygments_lexer": "ipython3",
   "version": "3.6.5"
  }
 },
 "nbformat": 4,
 "nbformat_minor": 2
}
